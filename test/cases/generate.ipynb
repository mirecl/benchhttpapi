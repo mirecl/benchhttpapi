{
 "cells": [
  {
   "cell_type": "code",
   "execution_count": null,
   "metadata": {},
   "outputs": [],
   "source": [
    "import requests\n",
    "from tqdm.notebook import tqdm\n",
    "from datetime import datetime as dt\n",
    "import datetime\n",
    "import zlib\n",
    "import pickle\n",
    "import json"
   ]
  },
  {
   "cell_type": "code",
   "execution_count": null,
   "metadata": {},
   "outputs": [],
   "source": [
    "def gen_amount():\n",
    "    return list(range(5000,3100000,500000))"
   ]
  },
  {
   "cell_type": "code",
   "execution_count": null,
   "metadata": {},
   "outputs": [],
   "source": [
    "def gen_rate():\n",
    "    return [x * 0.5 for x in range(0,18)]"
   ]
  },
  {
   "cell_type": "code",
   "execution_count": null,
   "metadata": {},
   "outputs": [],
   "source": [
    "def gen_periods():\n",
    "    return list(range(0,62,5))"
   ]
  },
  {
   "cell_type": "code",
   "execution_count": null,
   "metadata": {},
   "outputs": [],
   "source": [
    "def gen_date():\n",
    "    date = \"01.01.2022\"\n",
    "    format_date = \"%d.%m.%Y\"\n",
    "    arr = []\n",
    "    arr.append(date)\n",
    "    for _ in range(30):\n",
    "        date = dt.strptime(date, format_date) + datetime.timedelta(days=1)\n",
    "        date = dt.strftime(date,\"%d.%m.%Y\")\n",
    "        arr.append(date)\n",
    "    return arr"
   ]
  },
  {
   "cell_type": "code",
   "execution_count": 10,
   "metadata": {},
   "outputs": [],
   "source": [
    "def gen_fake_date():\n",
    "    arr_days = range(32,50,1)\n",
    "    arr_months = range(13,20,1)\n",
    "    arr = []\n",
    "    for day in arr_days:\n",
    "        for month in arr_months:\n",
    "            arr.append(f\"{day}.{month}.2022\")\n",
    "    return arr"
   ]
  },
  {
   "cell_type": "code",
   "execution_count": null,
   "metadata": {},
   "outputs": [],
   "source": [
    "len(gen_date())*len(gen_amount())*len(gen_rate())*len(gen_periods())"
   ]
  },
  {
   "cell_type": "code",
   "execution_count": null,
   "metadata": {},
   "outputs": [],
   "source": [
    "test_cases = []\n",
    "cnt = 0\n",
    "for d in tqdm(gen_date()):\n",
    "    for p in gen_periods():\n",
    "        for r in gen_rate():\n",
    "            for a in gen_amount():\n",
    "                cnt +=1\n",
    "                if cnt == 50001:\n",
    "                    break\n",
    "                request = {\"date\":d,\"amount\":a,\"rate\":r,\"periods\":p}\n",
    "                resp = requests.post(\"http://localhost:8081/deposit\",json=request)\n",
    "                response = {\"code\":resp.status_code,\"date\":None,\"sum\":None,\"sum_s\":None,\"sum_e\":None}\n",
    "                if resp.status_code == 200:\n",
    "                    res = resp.json()\n",
    "                    response[\"sum\"] = round(sum(res.values()))\n",
    "                    response[\"date\"] = [dt.strftime(d,\"%d.%m.%Y\") for d in sorted(dt.strptime(row,\"%d.%m.%Y\") for row in res.keys())]\n",
    "                    response[\"sum_s\"] = round(res[response[\"date\"][0]])\n",
    "                    response[\"sum_e\"] = round(res[response[\"date\"][-1]])\n",
    "                case = {\"request\":request, \"response\":response,\"id\":f\"max_case_{cnt}\"}\n",
    "                test_cases.append(case)     "
   ]
  },
  {
   "cell_type": "code",
   "execution_count": null,
   "metadata": {},
   "outputs": [],
   "source": [
    "print(len(test_cases))\n",
    "data = json.dumps(test_cases)\n",
    "cdata = zlib.compress(data.encode(), level=-1)\n",
    "with open('maх.pkl', 'wb') as f:\n",
    "    pickle.dump(cdata, f)"
   ]
  },
  {
   "cell_type": "code",
   "execution_count": null,
   "metadata": {},
   "outputs": [],
   "source": [
    "test_cases = []\n",
    "cnt = 0\n",
    "for d in tqdm(gen_date()):\n",
    "    cnt +=1\n",
    "    request = {\"date\":d,\"amount\":15000,\"rate\":5.5,\"periods\":8}\n",
    "    resp = requests.post(\"http://localhost:8081/deposit\",json=request)\n",
    "    response = {\"code\":resp.status_code,\"date\":None,\"sum\":None,\"sum_s\":None,\"sum_e\":None}\n",
    "    if resp.status_code == 200:\n",
    "        res = resp.json()\n",
    "        response[\"sum\"] = round(sum(res.values()))\n",
    "        response[\"date\"] = [dt.strftime(d,\"%d.%m.%Y\") for d in sorted(dt.strptime(row,\"%d.%m.%Y\") for row in res.keys())]\n",
    "        response[\"sum_s\"] = round(res[response[\"date\"][0]])\n",
    "        response[\"sum_e\"] = round(res[response[\"date\"][-1]])\n",
    "    case = {\"request\":request, \"response\":response,\"id\":f\"min_case_{cnt}\"}\n",
    "    test_cases.append(case)"
   ]
  },
  {
   "cell_type": "code",
   "execution_count": null,
   "metadata": {},
   "outputs": [],
   "source": [
    "print(len(test_cases))\n",
    "data = json.dumps(test_cases)\n",
    "cdata = zlib.compress(data.encode(), level=-1)\n",
    "with open('min.pkl', 'wb') as f:\n",
    "    pickle.dump(cdata, f)"
   ]
  },
  {
   "cell_type": "code",
   "execution_count": 13,
   "metadata": {},
   "outputs": [
    {
     "data": {
      "application/vnd.jupyter.widget-view+json": {
       "model_id": "7d8a3e4b58684a82819a458b54d8e11c",
       "version_major": 2,
       "version_minor": 0
      },
      "text/plain": [
       "  0%|          | 0/126 [00:00<?, ?it/s]"
      ]
     },
     "metadata": {},
     "output_type": "display_data"
    }
   ],
   "source": [
    "test_cases = []\n",
    "cnt = 0\n",
    "for d in tqdm(gen_fake_date()):\n",
    "    cnt +=1\n",
    "    request = {\"date\":d,\"amount\":15000,\"rate\":5.5,\"periods\":8}\n",
    "    resp = requests.post(\"http://localhost:8081/deposit\",json=request)\n",
    "    response = {\"code\":resp.status_code,\"date\":None,\"sum\":None,\"sum_s\":None,\"sum_e\":None}\n",
    "    if resp.status_code == 200:\n",
    "        res = resp.json()\n",
    "        response[\"sum\"] = round(sum(res.values()))\n",
    "        response[\"date\"] = [dt.strftime(d,\"%d.%m.%Y\") for d in sorted(dt.strptime(row,\"%d.%m.%Y\") for row in res.keys())]\n",
    "        response[\"sum_s\"] = round(res[response[\"date\"][0]])\n",
    "        response[\"sum_e\"] = round(res[response[\"date\"][-1]])\n",
    "    case = {\"request\":request, \"response\":response,\"id\":f\"fake_date_case_{cnt}\"}\n",
    "    test_cases.append(case)"
   ]
  },
  {
   "cell_type": "code",
   "execution_count": 14,
   "metadata": {},
   "outputs": [
    {
     "name": "stdout",
     "output_type": "stream",
     "text": [
      "126\n"
     ]
    }
   ],
   "source": [
    "print(len(test_cases))\n",
    "data = json.dumps(test_cases)\n",
    "cdata = zlib.compress(data.encode(), level=-1)\n",
    "with open('fake_date.pkl', 'wb') as f:\n",
    "    pickle.dump(cdata, f)"
   ]
  }
 ],
 "metadata": {
  "kernelspec": {
   "display_name": "Python 3",
   "language": "python",
   "name": "python3"
  },
  "language_info": {
   "codemirror_mode": {
    "name": "ipython",
    "version": 3
   },
   "file_extension": ".py",
   "mimetype": "text/x-python",
   "name": "python",
   "nbconvert_exporter": "python",
   "pygments_lexer": "ipython3",
   "version": "3.8.8"
  }
 },
 "nbformat": 4,
 "nbformat_minor": 4
}
