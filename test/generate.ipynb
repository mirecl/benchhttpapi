{
 "cells": [
  {
   "cell_type": "code",
   "execution_count": null,
   "metadata": {},
   "outputs": [],
   "source": [
    "import requests\n",
    "from tqdm.notebook import tqdm\n",
    "from datetime import datetime as dt\n",
    "import datetime\n",
    "import zlib\n",
    "import pickle\n",
    "import json"
   ]
  },
  {
   "cell_type": "code",
   "execution_count": null,
   "metadata": {},
   "outputs": [],
   "source": [
    "def gen_amount():\n",
    "    return list(range(5000,3100000,500000))"
   ]
  },
  {
   "cell_type": "code",
   "execution_count": null,
   "metadata": {},
   "outputs": [],
   "source": [
    "def gen_rate():\n",
    "    return [x * 0.5 for x in range(0,18)]"
   ]
  },
  {
   "cell_type": "code",
   "execution_count": null,
   "metadata": {},
   "outputs": [],
   "source": [
    "def gen_periods():\n",
    "    return list(range(0,62,5))"
   ]
  },
  {
   "cell_type": "code",
   "execution_count": null,
   "metadata": {},
   "outputs": [],
   "source": [
    "def gen_date():\n",
    "    date = \"01.01.2022\"\n",
    "    format_date = \"%d.%m.%Y\"\n",
    "    arr = []\n",
    "    arr.append(date)\n",
    "    for _ in range(30):\n",
    "        date = dt.strptime(date, format_date) + datetime.timedelta(days=1)\n",
    "        date = dt.strftime(date,\"%d.%m.%Y\")\n",
    "        arr.append(date)\n",
    "    return arr"
   ]
  },
  {
   "cell_type": "code",
   "execution_count": null,
   "metadata": {},
   "outputs": [],
   "source": [
    "len(gen_date())*len(gen_amount())*len(gen_rate())*len(gen_periods())"
   ]
  },
  {
   "cell_type": "code",
   "execution_count": null,
   "metadata": {},
   "outputs": [],
   "source": [
    "test_cases = []\n",
    "cnt = 0\n",
    "for d in tqdm(gen_date()):\n",
    "    for p in gen_periods():\n",
    "        for r in gen_rate():\n",
    "            for a in gen_amount():\n",
    "                cnt +=1\n",
    "                request = {\"date\":d,\"amount\":a,\"rate\":r,\"periods\":p}\n",
    "                resp = requests.post(\"http://localhost:8081/deposit\",json=request)\n",
    "                response = {\"code\":resp.status_code,\"date\":None,\"sum\":None,\"sum_s\":None,\"sum_e\":None}\n",
    "                if resp.status_code == 200:\n",
    "                    res = resp.json()\n",
    "                    response[\"sum\"] = round(sum(res.values()))\n",
    "                    response[\"date\"] = [dt.strftime(d,\"%d.%m.%Y\") for d in sorted(dt.strptime(row,\"%d.%m.%Y\") for row in res.keys())]\n",
    "                    response[\"sum_s\"] = round(res[response[\"date\"][0]])\n",
    "                    response[\"sum_e\"] = round(res[response[\"date\"][-1]])\n",
    "                case = {\"request\":request, \"response\":response,\"id\":cnt}\n",
    "                test_cases.append(case)     "
   ]
  },
  {
   "cell_type": "code",
   "execution_count": null,
   "metadata": {},
   "outputs": [],
   "source": [
    "len(test_cases)"
   ]
  },
  {
   "cell_type": "code",
   "execution_count": null,
   "metadata": {},
   "outputs": [],
   "source": [
    "data = json.dumps(test_cases)"
   ]
  },
  {
   "cell_type": "code",
   "execution_count": null,
   "metadata": {},
   "outputs": [],
   "source": [
    "cdata = zlib.compress(data.encode(), level=-1)"
   ]
  },
  {
   "cell_type": "code",
   "execution_count": null,
   "metadata": {},
   "outputs": [],
   "source": [
    "with open('cases.pkl', 'wb') as f:\n",
    "    pickle.dump(cdata, f)"
   ]
  },
  {
   "cell_type": "code",
   "execution_count": null,
   "metadata": {},
   "outputs": [],
   "source": []
  }
 ],
 "metadata": {
  "kernelspec": {
   "display_name": "Python 3",
   "language": "python",
   "name": "python3"
  },
  "language_info": {
   "codemirror_mode": {
    "name": "ipython",
    "version": 3
   },
   "file_extension": ".py",
   "mimetype": "text/x-python",
   "name": "python",
   "nbconvert_exporter": "python",
   "pygments_lexer": "ipython3",
   "version": "3.8.3"
  }
 },
 "nbformat": 4,
 "nbformat_minor": 4
}
